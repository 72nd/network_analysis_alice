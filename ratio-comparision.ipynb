{
 "cells": [
  {
   "cell_type": "markdown",
   "metadata": {},
   "source": [
    "# Vergleich zweier Netzwerke\n",
    "\n",
    "_Seminar »Figurennetzwerke digital analysiert«, Prof. Frank Fischer, Freie Universität Berlin, Sommersemester 2022._\n",
    "\n",
    "_Alisa Istomina, Irvin Hostettler._\n",
    "\n",
    "Dieses Workbook vergleicht zwei verschiedene Gephi-Netzwerke und untersucht die Unterschiede in der Gewichtung der Kanten und speichert das Ergebnis wiederum als Netzwerk. Ziel ist es, die relativen Veränderungen von Figurennetzerken verschiedener Bearbeitungen eines Stoffes zu visualisieren.\n",
    "\n",
    "## Laden\n",
    "\n",
    "In der Liste werden alle Netzwerke angegeben, welche miteinander verglichen werden sollten."
   ]
  },
  {
   "cell_type": "code",
   "execution_count": 201,
   "metadata": {},
   "outputs": [],
   "source": [
    "import networkx as nx\n",
    "\n",
    "from pathlib import Path\n",
    "\n",
    "NETWORKS = [\n",
    "    \"networks/book.graphml\",\n",
    "    \"networks/film-1999.graphml\",\n",
    "    \"networks/film-2010.graphml\",\n",
    "    \"networks/partitur.graphml\"\n",
    "]"
   ]
  },
  {
   "cell_type": "markdown",
   "metadata": {},
   "source": [
    "## Normalisierung\n",
    "\n",
    "Da die Diskriminierung (im Sinne von »Aufteilung«) der Figureninteratkionen auf unterschiedliche Weise geschehen kann (z.B. nach Kapiteln, Filmszenen usw.), besteht die Möglichkeit, die Gewichte zu normalisieren. Hierfür wird der jeweilige Durchschnitt der Gewichte eines Graphens genommen und mit dem des anderen verglichen."
   ]
  },
  {
   "cell_type": "code",
   "execution_count": 202,
   "metadata": {},
   "outputs": [],
   "source": [
    "def weight_avg(graph: nx.Graph) -> float:\n",
    "    \"\"\"Calculates the average of all edge weights in a given graph.\"\"\"\n",
    "    weights = []\n",
    "    for edge in graph.edges:\n",
    "        weights.append(graph.get_edge_data(edge[0], edge[1])[\"weight\"])\n",
    "    return sum(weights) / len(weights)\n",
    "\n",
    "def avg_ratio(graph_a: nx.Graph, graph_b: nx.Graph) -> float:\n",
    "    \"\"\"Calculates the quotient between the weight averages of the two given graphs.\"\"\"\n",
    "    return weight_avg(graph_b) / weight_avg(graph_a)\n",
    "    "
   ]
  },
  {
   "cell_type": "markdown",
   "metadata": {},
   "source": [
    "## Vergleichen\n",
    "\n",
    "Ausgehend vom `graph_a` werden nun alle Edges und deren Gewichte mit den von `graph_b` verglichen."
   ]
  },
  {
   "cell_type": "code",
   "execution_count": 203,
   "metadata": {},
   "outputs": [],
   "source": [
    "def compare_graphs(graph_a: nx.Graph, graph_b: nx.Graph) -> nx.Graph:\n",
    "    \"\"\"Compare two graphs and return the result in the form of a graph.\"\"\"\n",
    "    rsl = nx.Graph()\n",
    "    avg_rt = avg_ratio(graph_a, graph_b)\n",
    "    for edge_a in graph_a.edges:\n",
    "        data_a = graph_a.get_edge_data(edge_a[0], edge_a[1])\n",
    "        data_b = graph_b.get_edge_data(edge_a[0], edge_a[1])\n",
    "        if data_b is None:\n",
    "            value = 1.0\n",
    "            value_normalized = 1.0\n",
    "            connection = False\n",
    "        else:\n",
    "            value_normalized = round((data_b['weight'] / data_a['weight'] / avg_rt) * 10, 1)\n",
    "            value = (data_b['weight'] / data_a['weight']) * 10\n",
    "            connection = True\n",
    "        rsl.add_edge(edge_a[0], edge_a[1], weight=value, weight_normalized=value_normalized, connection=connection)\n",
    "    return rsl"
   ]
  },
  {
   "cell_type": "markdown",
   "metadata": {},
   "source": [
    "## Normalisierung Knotennamen\n",
    "\n",
    "Da teilweise die Groß- und Kleinschreibung einzelner Knoten voneinander abweicht, werden alle Knotennamen ohne Großbuchstaben wiedergegeben."
   ]
  },
  {
   "cell_type": "code",
   "execution_count": 204,
   "metadata": {},
   "outputs": [],
   "source": [
    "import string\n",
    "\n",
    "def normalize_names(graph: nx.Graph) -> nx.Graph: \n",
    "    mapping = {}\n",
    "    for node in graph.nodes:\n",
    "        mapping[node] = node.lower()\n",
    "    return nx.relabel_nodes(graph, mapping)"
   ]
  },
  {
   "cell_type": "markdown",
   "metadata": {},
   "source": [
    "## CSV Export\n",
    "\n",
    "Für die Analyse ist es hilfreich, wenn die Daten auch in einer CSV vorliegen. Somit können diese direkt in einer Tabellenkalkultion geöffnet werden."
   ]
  },
  {
   "cell_type": "code",
   "execution_count": 222,
   "metadata": {},
   "outputs": [],
   "source": [
    "import csv\n",
    "\n",
    "def edge_dict_list(graph: nx.Graph):\n",
    "    \"\"\"Converts to a list of edges as a dict.\"\"\"\n",
    "    edges = nx.to_edgelist(graph)\n",
    "    rsl = []\n",
    "    for edge in edges:\n",
    "        rsl.append({\n",
    "            \"source\": edge[0],\n",
    "            \"target\": edge[1],\n",
    "            \"weight\": edge[2][\"weight\"],\n",
    "            \"weight_normalized\": edge[2][\"weight_normalized\"],\n",
    "            \"connected\": edge[2][\"connection\"],\n",
    "        })\n",
    "    return rsl\n",
    "\n",
    "\n",
    "def write_csv(graph: nx.Graph, path: Path):\n",
    "    data = edge_dict_list(graph)\n",
    "    with open(path, \"w\") as file:\n",
    "        writer = csv.DictWriter(file, fieldnames=data[0].keys())\n",
    "        writer.writeheader()\n",
    "        for entry in data:\n",
    "            writer.writerow(entry)"
   ]
  },
  {
   "cell_type": "markdown",
   "metadata": {},
   "source": [
    "## Ausführen\n",
    "\n",
    "Alle Netzwerke aus der Liste `NETWORKS` werden miteinander verglichen und das Ergebnis gespeichert."
   ]
  },
  {
   "cell_type": "code",
   "execution_count": 223,
   "metadata": {},
   "outputs": [],
   "source": [
    "def compare_files(file_a: Path, file_b: Path, folder: Path):\n",
    "    \"\"\"Compares two files with each other and writes the output to a file.\"\"\"\n",
    "    rsl = compare_graphs(\n",
    "        normalize_names(nx.read_graphml(file_a)),\n",
    "        normalize_names(nx.read_graphml(file_b)),\n",
    "    )\n",
    "    nx.write_graphml(rsl, folder / f\"{file_a.stem}_{file_b.stem}.graphml\")\n",
    "    write_csv(rsl, folder / f\"{file_a.stem}_{file_b.stem}.csv\")\n",
    "\n",
    "def compare_all(files: list[str]):\n",
    "    \"\"\"Compare all permutations of the file with each other and save the result.\"\"\"\n",
    "    for file_a in NETWORKS:\n",
    "        for file_b in NETWORKS:\n",
    "            if file_a == file_b:\n",
    "                continue\n",
    "            compare_files(Path(file_a), Path(file_b), Path(\"comp\"))\n",
    "\n",
    "compare_all(NETWORKS)"
   ]
  }
 ],
 "metadata": {
  "kernelspec": {
   "display_name": "Python 3.10.6 64-bit",
   "language": "python",
   "name": "python3"
  },
  "language_info": {
   "codemirror_mode": {
    "name": "ipython",
    "version": 3
   },
   "file_extension": ".py",
   "mimetype": "text/x-python",
   "name": "python",
   "nbconvert_exporter": "python",
   "pygments_lexer": "ipython3",
   "version": "3.10.6"
  },
  "orig_nbformat": 4,
  "vscode": {
   "interpreter": {
    "hash": "b0fa6594d8f4cbf19f97940f81e996739fb7646882a419484c72d19e05852a7e"
   }
  }
 },
 "nbformat": 4,
 "nbformat_minor": 2
}
